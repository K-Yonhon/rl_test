{
 "cells": [
  {
   "cell_type": "code",
   "execution_count": null,
   "metadata": {
    "collapsed": true
   },
   "outputs": [],
   "source": [
    "import numpy as np\n",
    "import matplotlib.pyplot as plt"
   ]
  },
  {
   "cell_type": "code",
   "execution_count": null,
   "metadata": {},
   "outputs": [],
   "source": [
    "xlist = np.arange(-5, 5, 0.1)\n",
    "# xlist.shape[0]\n",
    "# np.arange(0, xlist.shape[0], 0.1)\n",
    "# ylist = np.sin(xlist) #+ np.arange(0, xlist.shape[0], 1)*0.05\n",
    "ylist = xlist**2 #+ np.arange(0, xlist.shape[0], 1)*0.05\n",
    "plt.plot(xlist, ylist)\n",
    "# plt.show()"
   ]
  },
  {
   "cell_type": "code",
   "execution_count": null,
   "metadata": {},
   "outputs": [],
   "source": [
    "mu = xlist.mean()\n",
    "sigma = xlist.std()\n",
    "def standardize(x):\n",
    "    return (x - mu) / sigma\n",
    "\n",
    "train_z = standardize(xlist)\n",
    "# train_z = xlist\n",
    "\n",
    "theta = np.random.rand(3)\n",
    "\n",
    "# def phi(x):\n",
    "#     return [1, x, x**2, x**3]\n",
    "def phi(x):\n",
    "    return [1, x, x**2]\n",
    "\n",
    "PHI = np.array([phi(x) for x in train_z])\n",
    "print(PHI[0])\n",
    "\n",
    "def f(x):\n",
    "    return np.dot(x, theta)\n",
    "\n",
    "def E(x, y):\n",
    "    return 0.5*np.sum((y-f(x))**2)\n",
    "\n",
    "ETA = 1e-3\n",
    "diff = 1\n",
    "count = 0\n",
    "\n",
    "error = E(PHI, ylist)\n",
    "print(error)\n",
    "while diff > 1e-2:\n",
    "    theta = theta - ETA * np.dot(f(PHI) - ylist, PHI)\n",
    "    current_error = E(PHI, ylist)\n",
    "#     print(\"current_error=\", current_error)\n",
    "    diff = error - current_error\n",
    "#     if diff < 0:\n",
    "#         diff = -1*diff\n",
    "    error = current_error\n",
    "    count += 1\n",
    "    log = '{}回目: theta = {}, 差分 = {:.4f}'\n",
    "#     print(log.format(count, theta, diff))\n",
    "    \n",
    "# プロットして確認\n",
    "x = np.arange(-5, 5, 0.1)\n",
    "plt.plot(train_z, ylist, 'o')\n",
    "plt.plot(x, f(np.array([phi(x) for x in xlist])))\n",
    "# plt.show()"
   ]
  }
 ],
 "metadata": {
  "kernelspec": {
   "display_name": "Python 3",
   "language": "python",
   "name": "python3"
  },
  "language_info": {
   "codemirror_mode": {
    "name": "ipython",
    "version": 3
   },
   "file_extension": ".py",
   "mimetype": "text/x-python",
   "name": "python",
   "nbconvert_exporter": "python",
   "pygments_lexer": "ipython3",
   "version": "3.6.3"
  }
 },
 "nbformat": 4,
 "nbformat_minor": 2
}
